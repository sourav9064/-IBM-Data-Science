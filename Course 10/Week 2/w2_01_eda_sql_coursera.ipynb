{
  "cells": [
    {
      "cell_type": "markdown",
      "metadata": {
        "id": "jvlB7jJ2oPGh"
      },
      "source": [
        "<center>\n",
        "    <img src=\"https://gitlab.com/ibm/skills-network/courses/placeholder101/-/raw/master/labs/module%201/images/IDSNlogo.png\"  width=\"300\" alt=\"cognitiveclass.ai logo\"  />\n",
        "</center>\n",
        "\n",
        "<h1 align=center><font size = 5>Assignment: SQL Notebook for Peer Assignment</font></h1>\n",
        "\n",
        "Estimated time needed: **60** minutes.\n",
        "\n",
        "## Introduction\n",
        "\n",
        "Using this Python notebook you will:\n",
        "\n",
        "1.  Understand the Spacex DataSet\n",
        "2.  Load the dataset  into the corresponding table in a Db2 database\n",
        "3.  Execute SQL queries to answer assignment questions\n"
      ]
    },
    {
      "cell_type": "markdown",
      "metadata": {
        "id": "DdMAoWkYoPGo"
      },
      "source": [
        "## Overview of the DataSet\n",
        "\n",
        "SpaceX has gained worldwide attention for a series of historic milestones.\n",
        "\n",
        "It is the only private company ever to return a spacecraft from low-earth orbit, which it first accomplished in December 2010.\n",
        "SpaceX advertises Falcon 9 rocket launches on its website with a cost of 62 million dollars wheras other providers cost upward of 165 million dollars each, much of the savings is because Space X can reuse the first stage.\n",
        "\n",
        "Therefore if we can determine if the first stage will land, we can determine the cost of a launch.\n",
        "\n",
        "This information can be used if an alternate company wants to bid against SpaceX for a rocket launch.\n",
        "\n",
        "This dataset includes a record for each payload carried during a SpaceX mission into outer space.\n"
      ]
    },
    {
      "cell_type": "markdown",
      "metadata": {
        "id": "0jhw6A5joPGp"
      },
      "source": [
        "### Download the datasets\n",
        "\n",
        "This assignment requires you to load the spacex dataset.\n",
        "\n",
        "In many cases the dataset to be analyzed is available as a .CSV (comma separated values) file, perhaps on the internet. Click on the link below to download and save the dataset (.CSV file):\n",
        "\n",
        "<a href=\"https://cf-courses-data.s3.us.cloud-object-storage.appdomain.cloud/IBM-DS0321EN-SkillsNetwork/labs/module_2/data/Spacex.csv?utm_medium=Exinfluencer&utm_source=Exinfluencer&utm_content=000026UJ&utm_term=10006555&utm_id=NA-SkillsNetwork-Channel-SkillsNetworkCoursesIBMDS0321ENSkillsNetwork26802033-2021-01-01\" target=\"_blank\">Spacex DataSet</a>\n"
      ]
    },
    {
      "cell_type": "markdown",
      "metadata": {
        "id": "CjZSCnh2oPGp"
      },
      "source": [
        "### Store the dataset in database table\n",
        "\n",
        "**it is highly recommended to manually load the table using the database console LOAD tool in DB2**.\n",
        "\n",
        "<img src = \"https://cf-courses-data.s3.us.cloud-object-storage.appdomain.cloud/IBM-DS0321EN-SkillsNetwork/labs/module_2/images/spacexload.png\">\n",
        "\n",
        "Now open the Db2 console, open the LOAD tool, Select / Drag the .CSV file for the  dataset, Next create a New Table, and then follow the steps on-screen instructions to load the data. Name the new table as follows:\n",
        "\n",
        "**SPACEXDATASET**\n",
        "\n",
        "**Follow these steps while using old DB2 UI which is having Open Console Screen**\n",
        "\n",
        "**Note:While loading Spacex dataset, ensure that detect datatypes is disabled. Later click on the pencil icon(edit option).**\n",
        "\n",
        "1.  Change the Date Format by manually typing DD-MM-YYYY and timestamp format as DD-MM-YYYY HH\\:MM:SS.\n",
        "\n",
        "    Here you should place the cursor at Date field and manually type as DD-MM-YYYY.\n",
        "\n",
        "2.  Change the PAYLOAD_MASS\\_\\_KG\\_  datatype  to INTEGER.\n",
        "\n",
        "<img src = \"https://cf-courses-data.s3.us.cloud-object-storage.appdomain.cloud/IBM-DS0321EN-SkillsNetwork/labs/module_2/images/spacexload2.png\">\n"
      ]
    },
    {
      "cell_type": "markdown",
      "metadata": {
        "id": "vY47_jjZoPGq"
      },
      "source": [
        "**Changes to be considered when having DB2 instance with the new UI having Go to UI screen**\n",
        "\n",
        "*   Refer to this insruction in this <a href=\"https://cf-courses-data.s3.us.cloud-object-storage.appdomain.cloud/IBMDeveloperSkillsNetwork-DB0201EN-SkillsNetwork/labs/Labs_Coursera_V5/labs/Lab%20-%20Sign%20up%20for%20IBM%20Cloud%20-%20Create%20Db2%20service%20instance%20-%20Get%20started%20with%20the%20Db2%20console/instructional-labs.md.html?utm_medium=Exinfluencer&utm_source=Exinfluencer&utm_content=000026UJ&utm_term=10006555&utm_id=NA-SkillsNetwork-Channel-SkillsNetworkCoursesIBMDS0321ENSkillsNetwork26802033-2021-01-01\">link</a> for viewing  the new  Go to UI screen.\n",
        "\n",
        "*   Later click on **Data link(below SQL)**  in the Go to UI screen  and click on **Load Data** tab.\n",
        "\n",
        "*   Later browse for the downloaded spacex file.\n",
        "\n",
        "<img src=\"https://cf-courses-data.s3.us.cloud-object-storage.appdomain.cloud/IBM-DS0321EN-SkillsNetwork/labs/module_2/images/browsefile.png\" width=\"800\"/>\n",
        "\n",
        "*   Once done select the schema andload the file.\n",
        "\n",
        " <img src=\"https://cf-courses-data.s3.us.cloud-object-storage.appdomain.cloud/IBM-DS0321EN-SkillsNetwork/labs/module_2/images/spacexload3.png\" width=\"800\"/>\n"
      ]
    },
    {
      "cell_type": "code",
      "execution_count": 1,
      "metadata": {
        "colab": {
          "base_uri": "https://localhost:8080/"
        },
        "id": "hpIgBtGPoPGr",
        "outputId": "70daba2d-9bab-46f4-ae48-0e0857a77806"
      },
      "outputs": [
        {
          "output_type": "stream",
          "name": "stdout",
          "text": [
            "Collecting sqlalchemy==1.3.9\n",
            "  Downloading SQLAlchemy-1.3.9.tar.gz (6.0 MB)\n",
            "\u001b[K     |████████████████████████████████| 6.0 MB 1.4 MB/s \n",
            "\u001b[?25hBuilding wheels for collected packages: sqlalchemy\n",
            "  Building wheel for sqlalchemy (setup.py) ... \u001b[?25l\u001b[?25hdone\n",
            "  Created wheel for sqlalchemy: filename=SQLAlchemy-1.3.9-cp37-cp37m-linux_x86_64.whl size=1203574 sha256=d7fa4cb8187c0e9e76025a52a62fe526adffd7ea6dc8ad50a0cdaba9ba40a21d\n",
            "  Stored in directory: /root/.cache/pip/wheels/03/71/13/010faf12246f72dc76b4150e6e599d13a85b4435e06fb9e51f\n",
            "Successfully built sqlalchemy\n",
            "Installing collected packages: sqlalchemy\n",
            "  Attempting uninstall: sqlalchemy\n",
            "    Found existing installation: SQLAlchemy 1.4.31\n",
            "    Uninstalling SQLAlchemy-1.4.31:\n",
            "      Successfully uninstalled SQLAlchemy-1.4.31\n",
            "Successfully installed sqlalchemy-1.3.9\n",
            "Collecting ibm_db_sa\n",
            "  Downloading ibm_db_sa-0.3.7.tar.gz (30 kB)\n",
            "Requirement already satisfied: sqlalchemy>=0.7.3 in /usr/local/lib/python3.7/dist-packages (from ibm_db_sa) (1.3.9)\n",
            "Collecting ibm_db>=2.0.0\n",
            "  Downloading ibm_db-3.1.1.tar.gz (1.1 MB)\n",
            "\u001b[K     |████████████████████████████████| 1.1 MB 8.0 MB/s \n",
            "\u001b[?25h  Installing build dependencies ... \u001b[?25l\u001b[?25hdone\n",
            "  Getting requirements to build wheel ... \u001b[?25l\u001b[?25hdone\n",
            "  Installing backend dependencies ... \u001b[?25l\u001b[?25hdone\n",
            "    Preparing wheel metadata ... \u001b[?25l\u001b[?25hdone\n",
            "Building wheels for collected packages: ibm-db-sa, ibm-db\n",
            "  Building wheel for ibm-db-sa (setup.py) ... \u001b[?25l\u001b[?25hdone\n",
            "  Created wheel for ibm-db-sa: filename=ibm_db_sa-0.3.7-py3-none-any.whl size=29316 sha256=498650cb818184eba414a3c1dc041c0f516a105ffdcf05c339a2e08f8688d619\n",
            "  Stored in directory: /root/.cache/pip/wheels/4a/e9/e7/0ee334a6cb2f09ec45978e05837b66f59494b482ef38c7ae33\n",
            "  Building wheel for ibm-db (PEP 517) ... \u001b[?25l\u001b[?25hdone\n",
            "  Created wheel for ibm-db: filename=ibm_db-3.1.1-cp37-cp37m-linux_x86_64.whl size=41080210 sha256=404a5703ae923431458a3b9e2cb272c93c75d1a285bc05d47127c2a2ee0e15af\n",
            "  Stored in directory: /root/.cache/pip/wheels/03/a2/bf/27e4a4c9ca57eeea66526c74386df7dfd118d689ab794f1ab6\n",
            "Successfully built ibm-db-sa ibm-db\n",
            "Installing collected packages: ibm-db, ibm-db-sa\n",
            "Successfully installed ibm-db-3.1.1 ibm-db-sa-0.3.7\n",
            "Requirement already satisfied: ipython-sql in /usr/local/lib/python3.7/dist-packages (0.3.9)\n",
            "Requirement already satisfied: sqlalchemy>=0.6.7 in /usr/local/lib/python3.7/dist-packages (from ipython-sql) (1.3.9)\n",
            "Requirement already satisfied: ipython-genutils>=0.1.0 in /usr/local/lib/python3.7/dist-packages (from ipython-sql) (0.2.0)\n",
            "Requirement already satisfied: prettytable in /usr/local/lib/python3.7/dist-packages (from ipython-sql) (3.1.1)\n",
            "Requirement already satisfied: sqlparse in /usr/local/lib/python3.7/dist-packages (from ipython-sql) (0.4.2)\n",
            "Requirement already satisfied: ipython>=1.0 in /usr/local/lib/python3.7/dist-packages (from ipython-sql) (5.5.0)\n",
            "Requirement already satisfied: six in /usr/local/lib/python3.7/dist-packages (from ipython-sql) (1.15.0)\n",
            "Requirement already satisfied: traitlets>=4.2 in /usr/local/lib/python3.7/dist-packages (from ipython>=1.0->ipython-sql) (5.1.1)\n",
            "Requirement already satisfied: pygments in /usr/local/lib/python3.7/dist-packages (from ipython>=1.0->ipython-sql) (2.6.1)\n",
            "Requirement already satisfied: setuptools>=18.5 in /usr/local/lib/python3.7/dist-packages (from ipython>=1.0->ipython-sql) (57.4.0)\n",
            "Requirement already satisfied: pickleshare in /usr/local/lib/python3.7/dist-packages (from ipython>=1.0->ipython-sql) (0.7.5)\n",
            "Requirement already satisfied: decorator in /usr/local/lib/python3.7/dist-packages (from ipython>=1.0->ipython-sql) (4.4.2)\n",
            "Requirement already satisfied: pexpect in /usr/local/lib/python3.7/dist-packages (from ipython>=1.0->ipython-sql) (4.8.0)\n",
            "Requirement already satisfied: simplegeneric>0.8 in /usr/local/lib/python3.7/dist-packages (from ipython>=1.0->ipython-sql) (0.8.1)\n",
            "Requirement already satisfied: prompt-toolkit<2.0.0,>=1.0.4 in /usr/local/lib/python3.7/dist-packages (from ipython>=1.0->ipython-sql) (1.0.18)\n",
            "Requirement already satisfied: wcwidth in /usr/local/lib/python3.7/dist-packages (from prompt-toolkit<2.0.0,>=1.0.4->ipython>=1.0->ipython-sql) (0.2.5)\n",
            "Requirement already satisfied: ptyprocess>=0.5 in /usr/local/lib/python3.7/dist-packages (from pexpect->ipython>=1.0->ipython-sql) (0.7.0)\n",
            "Requirement already satisfied: importlib-metadata in /usr/local/lib/python3.7/dist-packages (from prettytable->ipython-sql) (4.11.2)\n",
            "Requirement already satisfied: typing-extensions>=3.6.4 in /usr/local/lib/python3.7/dist-packages (from importlib-metadata->prettytable->ipython-sql) (3.10.0.2)\n",
            "Requirement already satisfied: zipp>=0.5 in /usr/local/lib/python3.7/dist-packages (from importlib-metadata->prettytable->ipython-sql) (3.7.0)\n"
          ]
        }
      ],
      "source": [
        "!pip install sqlalchemy==1.3.9\n",
        "!pip install ibm_db_sa\n",
        "!pip install ipython-sql"
      ]
    },
    {
      "cell_type": "markdown",
      "metadata": {
        "id": "1DSMZcIHoPGt"
      },
      "source": [
        "### Connect to the database\n",
        "\n",
        "Let us first load the SQL extension and establish a connection with the database\n"
      ]
    },
    {
      "cell_type": "markdown",
      "source": [
        "As  IBM's DB2 guidelines on this notebook doesnt work  I will implement the SQL queries using findspark"
      ],
      "metadata": {
        "id": "wyr1jzvkKyCi"
      }
    },
    {
      "cell_type": "code",
      "execution_count": 2,
      "metadata": {
        "id": "216xy_OioPGx"
      },
      "outputs": [],
      "source": [
        "!apt-get install openjdk-8-jdk-headless -qq > /dev/null\n",
        "!wget -q https://www.apache.org/dist/spark/spark-3.1.2/spark-3.1.2-bin-hadoop2.7.tgz\n",
        "!tar xf spark-3.1.2-bin-hadoop2.7.tgz"
      ]
    },
    {
      "cell_type": "code",
      "execution_count": 3,
      "metadata": {
        "id": "KEYtUf4soPGx"
      },
      "outputs": [],
      "source": [
        "import os\n",
        "os.environ[\"JAVA_HOME\"] = \"/usr/lib/jvm/java-8-openjdk-amd64\"\n",
        "os.environ[\"SPARK_HOME\"] = \"/content/spark-3.1.2-bin-hadoop2.7\""
      ]
    },
    {
      "cell_type": "code",
      "source": [
        "!pip install -q findspark\n",
        "\n",
        "import findspark\n",
        "findspark.init()"
      ],
      "metadata": {
        "id": "GUFnxzIIzhqe"
      },
      "execution_count": 4,
      "outputs": []
    },
    {
      "cell_type": "code",
      "source": [
        "from pyspark.sql import SparkSession\n",
        "spark = SparkSession.builder\\\n",
        "        .master(\"local\")\\\n",
        "        .appName(\"Colab\")\\\n",
        "        .config('spark.ui.port', '4050')\\\n",
        "        .getOrCreate()"
      ],
      "metadata": {
        "id": "oMyWLY1o0IWO"
      },
      "execution_count": 5,
      "outputs": []
    },
    {
      "cell_type": "code",
      "source": [
        "!pip install -U pandasql"
      ],
      "metadata": {
        "colab": {
          "base_uri": "https://localhost:8080/"
        },
        "id": "Hblz5x-YCwkE",
        "outputId": "0f98ad63-545f-4f94-9aa1-60b08f9668bd"
      },
      "execution_count": 7,
      "outputs": [
        {
          "output_type": "stream",
          "name": "stdout",
          "text": [
            "Collecting pandasql\n",
            "  Downloading pandasql-0.7.3.tar.gz (26 kB)\n",
            "Requirement already satisfied: numpy in /usr/local/lib/python3.7/dist-packages (from pandasql) (1.21.5)\n",
            "Requirement already satisfied: pandas in /usr/local/lib/python3.7/dist-packages (from pandasql) (1.3.5)\n",
            "Requirement already satisfied: sqlalchemy in /usr/local/lib/python3.7/dist-packages (from pandasql) (1.3.9)\n",
            "Requirement already satisfied: python-dateutil>=2.7.3 in /usr/local/lib/python3.7/dist-packages (from pandas->pandasql) (2.8.2)\n",
            "Requirement already satisfied: pytz>=2017.3 in /usr/local/lib/python3.7/dist-packages (from pandas->pandasql) (2018.9)\n",
            "Requirement already satisfied: six>=1.5 in /usr/local/lib/python3.7/dist-packages (from python-dateutil>=2.7.3->pandas->pandasql) (1.15.0)\n",
            "Building wheels for collected packages: pandasql\n",
            "  Building wheel for pandasql (setup.py) ... \u001b[?25l\u001b[?25hdone\n",
            "  Created wheel for pandasql: filename=pandasql-0.7.3-py3-none-any.whl size=26784 sha256=da727a09f7d77ee283e7bc5b11eaffea818c4ec912fce8c0557e9eb9145e19ff\n",
            "  Stored in directory: /root/.cache/pip/wheels/5c/4b/ec/41f4e116c8053c3654e2c2a47c62b4fca34cc67ef7b55deb7f\n",
            "Successfully built pandasql\n",
            "Installing collected packages: pandasql\n",
            "Successfully installed pandasql-0.7.3\n"
          ]
        }
      ]
    },
    {
      "cell_type": "code",
      "source": [
        "from pandasql import sqldf \n",
        "mysql = lambda q: sqldf(q, globals())"
      ],
      "metadata": {
        "id": "N43k9hB8D9FM"
      },
      "execution_count": 8,
      "outputs": []
    },
    {
      "cell_type": "markdown",
      "metadata": {
        "id": "y6e9aG7toPGy"
      },
      "source": [
        "## Tasks\n",
        "\n",
        "Now write and execute SQL queries to solve the assignment tasks.\n",
        "\n",
        "### Task 1\n",
        "\n",
        "##### Display the names of the unique launch sites  in the space mission\n"
      ]
    },
    {
      "cell_type": "code",
      "execution_count": 9,
      "metadata": {
        "id": "YQw7II52oPGy"
      },
      "outputs": [],
      "source": [
        "df = spark.read.csv(\"/content/Spacex.csv\",header=True, inferSchema=True)"
      ]
    },
    {
      "cell_type": "code",
      "source": [
        "df.show(5)"
      ],
      "metadata": {
        "colab": {
          "base_uri": "https://localhost:8080/"
        },
        "id": "4TVfstZk3JKV",
        "outputId": "bbdc8fef-2cd6-44d4-d99b-43dc9337bf88"
      },
      "execution_count": 10,
      "outputs": [
        {
          "output_type": "stream",
          "name": "stdout",
          "text": [
            "+----------+----------+---------------+-----------+--------------------+-----------------+---------+---------------+---------------+-------------------+\n",
            "|      Date|Time (UTC)|Booster_Version|Launch_Site|             Payload|PAYLOAD_MASS__KG_|    Orbit|       Customer|Mission_Outcome|   Landing _Outcome|\n",
            "+----------+----------+---------------+-----------+--------------------+-----------------+---------+---------------+---------------+-------------------+\n",
            "|04-06-2010|  18:45:00| F9 v1.0  B0003|CCAFS LC-40|Dragon Spacecraft...|                0|      LEO|         SpaceX|        Success|Failure (parachute)|\n",
            "|08-12-2010|  15:43:00| F9 v1.0  B0004|CCAFS LC-40|Dragon demo fligh...|                0|LEO (ISS)|NASA (COTS) NRO|        Success|Failure (parachute)|\n",
            "|22-05-2012|  07:44:00| F9 v1.0  B0005|CCAFS LC-40|Dragon demo fligh...|              525|LEO (ISS)|    NASA (COTS)|        Success|         No attempt|\n",
            "|08-10-2012|  00:35:00| F9 v1.0  B0006|CCAFS LC-40|        SpaceX CRS-1|              500|LEO (ISS)|     NASA (CRS)|        Success|         No attempt|\n",
            "|01-03-2013|  15:10:00| F9 v1.0  B0007|CCAFS LC-40|        SpaceX CRS-2|              677|LEO (ISS)|     NASA (CRS)|        Success|         No attempt|\n",
            "+----------+----------+---------------+-----------+--------------------+-----------------+---------+---------------+---------------+-------------------+\n",
            "only showing top 5 rows\n",
            "\n"
          ]
        }
      ]
    },
    {
      "cell_type": "code",
      "source": [
        "df.select(\"Launch_Site\").distinct().show()"
      ],
      "metadata": {
        "colab": {
          "base_uri": "https://localhost:8080/"
        },
        "id": "OEZurC1p1kzS",
        "outputId": "e20465b5-34bd-4285-e953-7b1688839753"
      },
      "execution_count": 11,
      "outputs": [
        {
          "output_type": "stream",
          "name": "stdout",
          "text": [
            "+------------+\n",
            "| Launch_Site|\n",
            "+------------+\n",
            "|CCAFS SLC-40|\n",
            "| VAFB SLC-4E|\n",
            "|  KSC LC-39A|\n",
            "| CCAFS LC-40|\n",
            "+------------+\n",
            "\n"
          ]
        }
      ]
    },
    {
      "cell_type": "markdown",
      "metadata": {
        "id": "g9HBzzygoPGz"
      },
      "source": [
        "### Task 2\n",
        "\n",
        "##### Display 5 records where launch sites begin with the string 'CCA'\n"
      ]
    },
    {
      "cell_type": "code",
      "execution_count": 12,
      "metadata": {
        "id": "8IkzOks0oPGz",
        "colab": {
          "base_uri": "https://localhost:8080/"
        },
        "outputId": "c92f3253-a120-44c3-c35c-71b588832759"
      },
      "outputs": [
        {
          "output_type": "stream",
          "name": "stdout",
          "text": [
            "+----------+----------+---------------+-----------+--------------------+-----------------+---------+---------------+---------------+-------------------+---------------------+\n",
            "|      Date|Time (UTC)|Booster_Version|Launch_Site|             Payload|PAYLOAD_MASS__KG_|    Orbit|       Customer|Mission_Outcome|   Landing _Outcome|Launch_Site LIKE CCA%|\n",
            "+----------+----------+---------------+-----------+--------------------+-----------------+---------+---------------+---------------+-------------------+---------------------+\n",
            "|04-06-2010|  18:45:00| F9 v1.0  B0003|CCAFS LC-40|Dragon Spacecraft...|                0|      LEO|         SpaceX|        Success|Failure (parachute)|                 true|\n",
            "|08-12-2010|  15:43:00| F9 v1.0  B0004|CCAFS LC-40|Dragon demo fligh...|                0|LEO (ISS)|NASA (COTS) NRO|        Success|Failure (parachute)|                 true|\n",
            "|22-05-2012|  07:44:00| F9 v1.0  B0005|CCAFS LC-40|Dragon demo fligh...|              525|LEO (ISS)|    NASA (COTS)|        Success|         No attempt|                 true|\n",
            "|08-10-2012|  00:35:00| F9 v1.0  B0006|CCAFS LC-40|        SpaceX CRS-1|              500|LEO (ISS)|     NASA (CRS)|        Success|         No attempt|                 true|\n",
            "|01-03-2013|  15:10:00| F9 v1.0  B0007|CCAFS LC-40|        SpaceX CRS-2|              677|LEO (ISS)|     NASA (CRS)|        Success|         No attempt|                 true|\n",
            "+----------+----------+---------------+-----------+--------------------+-----------------+---------+---------------+---------------+-------------------+---------------------+\n",
            "only showing top 5 rows\n",
            "\n"
          ]
        }
      ],
      "source": [
        "df2 = df.select(\"*\", df.Launch_Site.like(\"CCA%\")).show(5)"
      ]
    },
    {
      "cell_type": "markdown",
      "metadata": {
        "id": "0kBspNcioPGz"
      },
      "source": [
        "### Task 3\n",
        "\n",
        "##### Display the total payload mass carried by boosters launched by NASA (CRS)\n"
      ]
    },
    {
      "cell_type": "code",
      "execution_count": null,
      "metadata": {
        "id": "lNP9MN_UoPGz",
        "colab": {
          "base_uri": "https://localhost:8080/"
        },
        "outputId": "52de9c88-3b0d-4339-bf00-98f6182a5325"
      },
      "outputs": [
        {
          "output_type": "stream",
          "name": "stdout",
          "text": [
            "+----------+----------+---------------+------------+--------------------+-----------------+---------+----------+-------------------+--------------------+\n",
            "|      Date|Time (UTC)|Booster_Version| Launch_Site|             Payload|PAYLOAD_MASS__KG_|    Orbit|  Customer|    Mission_Outcome|    Landing _Outcome|\n",
            "+----------+----------+---------------+------------+--------------------+-----------------+---------+----------+-------------------+--------------------+\n",
            "|08-10-2012|  00:35:00| F9 v1.0  B0006| CCAFS LC-40|        SpaceX CRS-1|              500|LEO (ISS)|NASA (CRS)|            Success|          No attempt|\n",
            "|01-03-2013|  15:10:00| F9 v1.0  B0007| CCAFS LC-40|        SpaceX CRS-2|              677|LEO (ISS)|NASA (CRS)|            Success|          No attempt|\n",
            "|18-04-2014|  19:25:00|        F9 v1.1| CCAFS LC-40|        SpaceX CRS-3|             2296|LEO (ISS)|NASA (CRS)|            Success|  Controlled (ocean)|\n",
            "|21-09-2014|  05:52:00|  F9 v1.1 B1010| CCAFS LC-40|        SpaceX CRS-4|             2216|LEO (ISS)|NASA (CRS)|            Success|Uncontrolled (ocean)|\n",
            "|10-01-2015|  09:47:00|  F9 v1.1 B1012| CCAFS LC-40|        SpaceX CRS-5|             2395|LEO (ISS)|NASA (CRS)|            Success|Failure (drone ship)|\n",
            "|14-04-2015|  20:10:00|  F9 v1.1 B1015| CCAFS LC-40|        SpaceX CRS-6|             1898|LEO (ISS)|NASA (CRS)|            Success|Failure (drone ship)|\n",
            "|28-06-2015|  14:21:00|  F9 v1.1 B1018| CCAFS LC-40|        SpaceX CRS-7|             1952|LEO (ISS)|NASA (CRS)|Failure (in flight)|Precluded (drone ...|\n",
            "|08-04-2016|  20:43:00|  F9 FT B1021.1| CCAFS LC-40|        SpaceX CRS-8|             3136|LEO (ISS)|NASA (CRS)|            Success|Success (drone ship)|\n",
            "|18-07-2016|  04:45:00|  F9 FT B1025.1| CCAFS LC-40|        SpaceX CRS-9|             2257|LEO (ISS)|NASA (CRS)|            Success|Success (ground pad)|\n",
            "|19-02-2017|  14:39:00|  F9 FT B1031.1|  KSC LC-39A|       SpaceX CRS-10|             2490|LEO (ISS)|NASA (CRS)|            Success|Success (ground pad)|\n",
            "|03-06-2017|  21:07:00|  F9 FT B1035.1|  KSC LC-39A|       SpaceX CRS-11|             2708|LEO (ISS)|NASA (CRS)|            Success|Success (ground pad)|\n",
            "|14-08-2017|  16:31:00|  F9 B4 B1039.1|  KSC LC-39A|       SpaceX CRS-12|             3310|LEO (ISS)|NASA (CRS)|            Success|Success (ground pad)|\n",
            "|15-12-2017|  15:36:00| F9 FT  B1035.2|CCAFS SLC-40|       SpaceX CRS-13|             2205|LEO (ISS)|NASA (CRS)|            Success|Success (ground pad)|\n",
            "|02-04-2018|  20:30:00| F9 B4  B1039.2|CCAFS SLC-40|       SpaceX CRS-14|             2647|LEO (ISS)|NASA (CRS)|            Success|          No attempt|\n",
            "|29-06-2018|  09:42:00|  F9 B4 B1045.2|CCAFS SLC-40|       SpaceX CRS-15|             2697|LEO (ISS)|NASA (CRS)|            Success|          No attempt|\n",
            "|05-12-2018|  18:16:00|     F9 B5B1050|CCAFS SLC-40|       SpaceX CRS-16|             2500|LEO (ISS)|NASA (CRS)|            Success|             Failure|\n",
            "|04-05-2019|  06:48:00|  F9 B5B1056.1 |CCAFS SLC-40|SpaceX CRS-17, St...|             2495|LEO (ISS)|NASA (CRS)|            Success|             Success|\n",
            "|25-07-2019|  22:01:00| F9 B5 B1056.2 |CCAFS SLC-40|SpaceX CRS-18, AM...|             2268|LEO (ISS)|NASA (CRS)|            Success|             Success|\n",
            "|07-03-2020|  04:50:00|  F9 B5 B1059.2|CCAFS SLC-40|SpaceX CRS-20, St...|             1977|LEO (ISS)|NASA (CRS)|            Success|             Success|\n",
            "|06-12-2020|  16:17:08| F9 B5 B1058.4 |  KSC LC-39A|       SpaceX CRS-21|             2972|LEO (ISS)|NASA (CRS)|            Success|             Success|\n",
            "+----------+----------+---------------+------------+--------------------+-----------------+---------+----------+-------------------+--------------------+\n",
            "\n"
          ]
        }
      ],
      "source": [
        "df3 = df.filter(df[\"Customer\"] == 'NASA (CRS)').show()"
      ]
    },
    {
      "cell_type": "markdown",
      "metadata": {
        "id": "CUYYblMXoPG0"
      },
      "source": [
        "### Task 4\n",
        "\n",
        "##### Display average payload mass carried by booster version F9 v1.1\n"
      ]
    },
    {
      "cell_type": "code",
      "execution_count": null,
      "metadata": {
        "id": "mm0lzQt8oPG0",
        "colab": {
          "base_uri": "https://localhost:8080/"
        },
        "outputId": "11e5e262-a8a7-4c3e-98f8-9eb7d6103199"
      },
      "outputs": [
        {
          "output_type": "stream",
          "name": "stdout",
          "text": [
            "+----------+----------+---------------+-----------+--------------------+-----------------+---------+--------------------+-------------------+--------------------+\n",
            "|      Date|Time (UTC)|Booster_Version|Launch_Site|             Payload|PAYLOAD_MASS__KG_|    Orbit|            Customer|    Mission_Outcome|    Landing _Outcome|\n",
            "+----------+----------+---------------+-----------+--------------------+-----------------+---------+--------------------+-------------------+--------------------+\n",
            "|29-09-2013|  16:00:00| F9 v1.1  B1003|VAFB SLC-4E|            CASSIOPE|              500|Polar LEO|                 MDA|            Success|Uncontrolled (ocean)|\n",
            "|03-12-2013|  22:41:00|        F9 v1.1|CCAFS LC-40|               SES-8|             3170|      GTO|                 SES|            Success|          No attempt|\n",
            "|06-01-2014|  22:06:00|        F9 v1.1|CCAFS LC-40|           Thaicom 6|             3325|      GTO|             Thaicom|            Success|          No attempt|\n",
            "|18-04-2014|  19:25:00|        F9 v1.1|CCAFS LC-40|        SpaceX CRS-3|             2296|LEO (ISS)|          NASA (CRS)|            Success|  Controlled (ocean)|\n",
            "|14-07-2014|  15:15:00|        F9 v1.1|CCAFS LC-40|OG2 Mission 1  6 ...|             1316|      LEO|             Orbcomm|            Success|  Controlled (ocean)|\n",
            "|05-08-2014|  08:00:00|        F9 v1.1|CCAFS LC-40|           AsiaSat 8|             4535|      GTO|             AsiaSat|            Success|          No attempt|\n",
            "|07-09-2014|  05:00:00|  F9 v1.1 B1011|CCAFS LC-40|           AsiaSat 6|             4428|      GTO|             AsiaSat|            Success|          No attempt|\n",
            "|21-09-2014|  05:52:00|  F9 v1.1 B1010|CCAFS LC-40|        SpaceX CRS-4|             2216|LEO (ISS)|          NASA (CRS)|            Success|Uncontrolled (ocean)|\n",
            "|10-01-2015|  09:47:00|  F9 v1.1 B1012|CCAFS LC-40|        SpaceX CRS-5|             2395|LEO (ISS)|          NASA (CRS)|            Success|Failure (drone ship)|\n",
            "|11-02-2015|  23:03:00|  F9 v1.1 B1013|CCAFS LC-40|              DSCOVR|              570|      HEO|U.S. Air Force NA...|            Success|  Controlled (ocean)|\n",
            "|02-03-2015|  03:50:00|  F9 v1.1 B1014|CCAFS LC-40|ABS-3A Eutelsat 1...|             4159|      GTO|        ABS Eutelsat|            Success|          No attempt|\n",
            "|14-04-2015|  20:10:00|  F9 v1.1 B1015|CCAFS LC-40|        SpaceX CRS-6|             1898|LEO (ISS)|          NASA (CRS)|            Success|Failure (drone ship)|\n",
            "|27-04-2015|  23:03:00|  F9 v1.1 B1016|CCAFS LC-40|Turkmen 52 / Mona...|             4707|      GTO|Turkmenistan Nati...|            Success|          No attempt|\n",
            "|28-06-2015|  14:21:00|  F9 v1.1 B1018|CCAFS LC-40|        SpaceX CRS-7|             1952|LEO (ISS)|          NASA (CRS)|Failure (in flight)|Precluded (drone ...|\n",
            "|17-01-2016|  18:42:00|  F9 v1.1 B1017|VAFB SLC-4E|             Jason-3|              553|      LEO|NASA (LSP) NOAA CNES|            Success|Failure (drone ship)|\n",
            "+----------+----------+---------------+-----------+--------------------+-----------------+---------+--------------------+-------------------+--------------------+\n",
            "\n"
          ]
        }
      ],
      "source": [
        "df4 = df.filter(df.Booster_Version.like(\"F9 v1.1%\")).show()"
      ]
    },
    {
      "cell_type": "markdown",
      "metadata": {
        "id": "GTijt57CoPG0"
      },
      "source": [
        "### Task 5\n",
        "\n",
        "##### List the date when the first successful landing outcome in ground pad was acheived.\n",
        "\n",
        "*Hint:Use min function*\n"
      ]
    },
    {
      "cell_type": "code",
      "execution_count": 16,
      "metadata": {
        "id": "OPlk022qoPG1",
        "colab": {
          "base_uri": "https://localhost:8080/"
        },
        "outputId": "7363d92d-08bf-4907-fb93-2edd03fd8f0b"
      },
      "outputs": [
        {
          "output_type": "stream",
          "name": "stdout",
          "text": [
            "+----------+----------+---------------+-----------+--------------------+-----------------+-----+--------+---------------+--------------------+\n",
            "|      Date|Time (UTC)|Booster_Version|Launch_Site|             Payload|PAYLOAD_MASS__KG_|Orbit|Customer|Mission_Outcome|    Landing _Outcome|\n",
            "+----------+----------+---------------+-----------+--------------------+-----------------+-----+--------+---------------+--------------------+\n",
            "|22-12-2015|  01:29:00|    F9 FT B1019|CCAFS LC-40|OG2 Mission 2  11...|             2034|  LEO| Orbcomm|        Success|Success (ground pad)|\n",
            "+----------+----------+---------------+-----------+--------------------+-----------------+-----+--------+---------------+--------------------+\n",
            "only showing top 1 row\n",
            "\n"
          ]
        }
      ],
      "source": [
        "df5 = df.filter(df[\"Landing _Outcome\"].like(\"Success (ground pad)\")).show(1)"
      ]
    },
    {
      "cell_type": "markdown",
      "metadata": {
        "id": "NCD7XJVCoPG1"
      },
      "source": [
        "### Task 6\n",
        "\n",
        "##### List the names of the boosters which have success in drone ship and have payload mass greater than 4000 but less than 6000\n"
      ]
    },
    {
      "cell_type": "code",
      "execution_count": null,
      "metadata": {
        "id": "Z8tzPtGZoPG1",
        "colab": {
          "base_uri": "https://localhost:8080/"
        },
        "outputId": "5546f10d-aba3-40bc-bebe-088ffaa781c6"
      },
      "outputs": [
        {
          "output_type": "stream",
          "name": "stdout",
          "text": [
            "+----------+----------+---------------+------------+--------------------+-----------------+---------+--------------------+---------------+--------------------+\n",
            "|      Date|Time (UTC)|Booster_Version| Launch_Site|             Payload|PAYLOAD_MASS__KG_|    Orbit|            Customer|Mission_Outcome|    Landing _Outcome|\n",
            "+----------+----------+---------------+------------+--------------------+-----------------+---------+--------------------+---------------+--------------------+\n",
            "|08-04-2016|  20:43:00|  F9 FT B1021.1| CCAFS LC-40|        SpaceX CRS-8|             3136|LEO (ISS)|          NASA (CRS)|        Success|Success (drone ship)|\n",
            "|06-05-2016|  05:21:00|    F9 FT B1022| CCAFS LC-40|            JCSAT-14|             4696|      GTO|SKY Perfect JSAT ...|        Success|Success (drone ship)|\n",
            "|27-05-2016|  21:39:00|  F9 FT B1023.1| CCAFS LC-40|           Thaicom 8|             3100|      GTO|             Thaicom|        Success|Success (drone ship)|\n",
            "|14-08-2016|  05:26:00|    F9 FT B1026| CCAFS LC-40|            JCSAT-16|             4600|      GTO|SKY Perfect JSAT ...|        Success|Success (drone ship)|\n",
            "|14-01-2017|  17:54:00|  F9 FT B1029.1| VAFB SLC-4E|      Iridium NEXT 1|             9600|Polar LEO|Iridium Communica...|        Success|Success (drone ship)|\n",
            "|30-03-2017|  22:27:00| F9 FT  B1021.2|  KSC LC-39A|              SES-10|             5300|      GTO|                 SES|        Success|Success (drone ship)|\n",
            "|23-06-2017|  19:10:00| F9 FT  B1029.2|  KSC LC-39A|       BulgariaSat-1|             3669|      GTO|           Bulsatcom|        Success|Success (drone ship)|\n",
            "|25-06-2017|  20:25:00|  F9 FT B1036.1| VAFB SLC-4E|      Iridium NEXT 2|             9600|      LEO|Iridium Communica...|        Success|Success (drone ship)|\n",
            "|24-08-2017|  18:51:00|  F9 FT B1038.1| VAFB SLC-4E|          Formosat-5|              475|      SSO|                NSPO|        Success|Success (drone ship)|\n",
            "|09-10-2017|  12:37:00|  F9 B4 B1041.1| VAFB SLC-4E|      Iridium NEXT 3|             9600|Polar LEO|Iridium Communica...|        Success|Success (drone ship)|\n",
            "|11-10-2017|  22:53:00| F9 FT  B1031.2|  KSC LC-39A|SES-11 / EchoStar...|             5200|      GTO|        SES EchoStar|        Success|Success (drone ship)|\n",
            "|30-10-2017|  19:34:00|  F9 B4 B1042.1|  KSC LC-39A|         Koreasat 5A|             3500|      GTO|      KT Corporation|        Success|Success (drone ship)|\n",
            "|18-04-2018|  22:51:00|  F9 B4 B1045.1|CCAFS SLC-40|Transiting Exopla...|              362|      HEO|          NASA (LSP)|        Success|Success (drone ship)|\n",
            "|11-05-2018|  20:14:00| F9 B5  B1046.1|  KSC LC-39A|       Bangabandhu-1|             3600|      GTO|  Thales-Alenia/BTRC|        Success|Success (drone ship)|\n",
            "+----------+----------+---------------+------------+--------------------+-----------------+---------+--------------------+---------------+--------------------+\n",
            "\n"
          ]
        }
      ],
      "source": [
        "df6 = df.filter(df[\"Landing _Outcome\"].like(\"Success (drone ship)\")).show()"
      ]
    },
    {
      "cell_type": "markdown",
      "metadata": {
        "id": "HiMCs2APoPG1"
      },
      "source": [
        "### Task 7\n",
        "\n",
        "##### List the total number of successful and failure mission outcomes\n"
      ]
    },
    {
      "cell_type": "code",
      "execution_count": null,
      "metadata": {
        "id": "l7zxOimsoPG1",
        "colab": {
          "base_uri": "https://localhost:8080/"
        },
        "outputId": "6fca4629-edbb-4e06-c2b3-3b2a784dac52"
      },
      "outputs": [
        {
          "output_type": "stream",
          "name": "stdout",
          "text": [
            "+----------+----------+---------------+------------+--------------------+-----------------+-----------+--------------------+--------------------+--------------------+\n",
            "|      Date|Time (UTC)|Booster_Version| Launch_Site|             Payload|PAYLOAD_MASS__KG_|      Orbit|            Customer|     Mission_Outcome|    Landing _Outcome|\n",
            "+----------+----------+---------------+------------+--------------------+-----------------+-----------+--------------------+--------------------+--------------------+\n",
            "|04-06-2010|  18:45:00| F9 v1.0  B0003| CCAFS LC-40|Dragon Spacecraft...|                0|        LEO|              SpaceX|             Success| Failure (parachute)|\n",
            "|08-12-2010|  15:43:00| F9 v1.0  B0004| CCAFS LC-40|Dragon demo fligh...|                0|  LEO (ISS)|     NASA (COTS) NRO|             Success| Failure (parachute)|\n",
            "|22-05-2012|  07:44:00| F9 v1.0  B0005| CCAFS LC-40|Dragon demo fligh...|              525|  LEO (ISS)|         NASA (COTS)|             Success|          No attempt|\n",
            "|08-10-2012|  00:35:00| F9 v1.0  B0006| CCAFS LC-40|        SpaceX CRS-1|              500|  LEO (ISS)|          NASA (CRS)|             Success|          No attempt|\n",
            "|01-03-2013|  15:10:00| F9 v1.0  B0007| CCAFS LC-40|        SpaceX CRS-2|              677|  LEO (ISS)|          NASA (CRS)|             Success|          No attempt|\n",
            "|29-09-2013|  16:00:00| F9 v1.1  B1003| VAFB SLC-4E|            CASSIOPE|              500|  Polar LEO|                 MDA|             Success|Uncontrolled (ocean)|\n",
            "|03-12-2013|  22:41:00|        F9 v1.1| CCAFS LC-40|               SES-8|             3170|        GTO|                 SES|             Success|          No attempt|\n",
            "|06-01-2014|  22:06:00|        F9 v1.1| CCAFS LC-40|           Thaicom 6|             3325|        GTO|             Thaicom|             Success|          No attempt|\n",
            "|18-04-2014|  19:25:00|        F9 v1.1| CCAFS LC-40|        SpaceX CRS-3|             2296|  LEO (ISS)|          NASA (CRS)|             Success|  Controlled (ocean)|\n",
            "|14-07-2014|  15:15:00|        F9 v1.1| CCAFS LC-40|OG2 Mission 1  6 ...|             1316|        LEO|             Orbcomm|             Success|  Controlled (ocean)|\n",
            "|05-08-2014|  08:00:00|        F9 v1.1| CCAFS LC-40|           AsiaSat 8|             4535|        GTO|             AsiaSat|             Success|          No attempt|\n",
            "|07-09-2014|  05:00:00|  F9 v1.1 B1011| CCAFS LC-40|           AsiaSat 6|             4428|        GTO|             AsiaSat|             Success|          No attempt|\n",
            "|21-09-2014|  05:52:00|  F9 v1.1 B1010| CCAFS LC-40|        SpaceX CRS-4|             2216|  LEO (ISS)|          NASA (CRS)|             Success|Uncontrolled (ocean)|\n",
            "|10-01-2015|  09:47:00|  F9 v1.1 B1012| CCAFS LC-40|        SpaceX CRS-5|             2395|  LEO (ISS)|          NASA (CRS)|             Success|Failure (drone ship)|\n",
            "|11-02-2015|  23:03:00|  F9 v1.1 B1013| CCAFS LC-40|              DSCOVR|              570|        HEO|U.S. Air Force NA...|             Success|  Controlled (ocean)|\n",
            "|02-03-2015|  03:50:00|  F9 v1.1 B1014| CCAFS LC-40|ABS-3A Eutelsat 1...|             4159|        GTO|        ABS Eutelsat|             Success|          No attempt|\n",
            "|14-04-2015|  20:10:00|  F9 v1.1 B1015| CCAFS LC-40|        SpaceX CRS-6|             1898|  LEO (ISS)|          NASA (CRS)|             Success|Failure (drone ship)|\n",
            "|27-04-2015|  23:03:00|  F9 v1.1 B1016| CCAFS LC-40|Turkmen 52 / Mona...|             4707|        GTO|Turkmenistan Nati...|             Success|          No attempt|\n",
            "|22-12-2015|  01:29:00|    F9 FT B1019| CCAFS LC-40|OG2 Mission 2  11...|             2034|        LEO|             Orbcomm|             Success|Success (ground pad)|\n",
            "|17-01-2016|  18:42:00|  F9 v1.1 B1017| VAFB SLC-4E|             Jason-3|              553|        LEO|NASA (LSP) NOAA CNES|             Success|Failure (drone ship)|\n",
            "|04-03-2016|  23:35:00|    F9 FT B1020| CCAFS LC-40|               SES-9|             5271|        GTO|                 SES|             Success|Failure (drone ship)|\n",
            "|08-04-2016|  20:43:00|  F9 FT B1021.1| CCAFS LC-40|        SpaceX CRS-8|             3136|  LEO (ISS)|          NASA (CRS)|             Success|Success (drone ship)|\n",
            "|06-05-2016|  05:21:00|    F9 FT B1022| CCAFS LC-40|            JCSAT-14|             4696|        GTO|SKY Perfect JSAT ...|             Success|Success (drone ship)|\n",
            "|27-05-2016|  21:39:00|  F9 FT B1023.1| CCAFS LC-40|           Thaicom 8|             3100|        GTO|             Thaicom|             Success|Success (drone ship)|\n",
            "|15-06-2016|  14:29:00|    F9 FT B1024| CCAFS LC-40|ABS-2A Eutelsat 1...|             3600|        GTO|        ABS Eutelsat|             Success|Failure (drone ship)|\n",
            "|18-07-2016|  04:45:00|  F9 FT B1025.1| CCAFS LC-40|        SpaceX CRS-9|             2257|  LEO (ISS)|          NASA (CRS)|             Success|Success (ground pad)|\n",
            "|14-08-2016|  05:26:00|    F9 FT B1026| CCAFS LC-40|            JCSAT-16|             4600|        GTO|SKY Perfect JSAT ...|             Success|Success (drone ship)|\n",
            "|14-01-2017|  17:54:00|  F9 FT B1029.1| VAFB SLC-4E|      Iridium NEXT 1|             9600|  Polar LEO|Iridium Communica...|             Success|Success (drone ship)|\n",
            "|19-02-2017|  14:39:00|  F9 FT B1031.1|  KSC LC-39A|       SpaceX CRS-10|             2490|  LEO (ISS)|          NASA (CRS)|             Success|Success (ground pad)|\n",
            "|16-03-2017|  06:00:00|    F9 FT B1030|  KSC LC-39A|         EchoStar 23|             5600|        GTO|            EchoStar|             Success|          No attempt|\n",
            "|30-03-2017|  22:27:00| F9 FT  B1021.2|  KSC LC-39A|              SES-10|             5300|        GTO|                 SES|             Success|Success (drone ship)|\n",
            "|01-05-2017|  11:15:00|  F9 FT B1032.1|  KSC LC-39A|             NROL-76|             5300|        LEO|                 NRO|             Success|Success (ground pad)|\n",
            "|15-05-2017|  23:21:00|    F9 FT B1034|  KSC LC-39A|       Inmarsat-5 F4|             6070|        GTO|            Inmarsat|             Success|          No attempt|\n",
            "|03-06-2017|  21:07:00|  F9 FT B1035.1|  KSC LC-39A|       SpaceX CRS-11|             2708|  LEO (ISS)|          NASA (CRS)|             Success|Success (ground pad)|\n",
            "|23-06-2017|  19:10:00| F9 FT  B1029.2|  KSC LC-39A|       BulgariaSat-1|             3669|        GTO|           Bulsatcom|             Success|Success (drone ship)|\n",
            "|25-06-2017|  20:25:00|  F9 FT B1036.1| VAFB SLC-4E|      Iridium NEXT 2|             9600|        LEO|Iridium Communica...|             Success|Success (drone ship)|\n",
            "|05-07-2017|  23:38:00|    F9 FT B1037|  KSC LC-39A|        Intelsat 35e|             6761|        GTO|            Intelsat|             Success|          No attempt|\n",
            "|14-08-2017|  16:31:00|  F9 B4 B1039.1|  KSC LC-39A|       SpaceX CRS-12|             3310|  LEO (ISS)|          NASA (CRS)|             Success|Success (ground pad)|\n",
            "|24-08-2017|  18:51:00|  F9 FT B1038.1| VAFB SLC-4E|          Formosat-5|              475|        SSO|                NSPO|             Success|Success (drone ship)|\n",
            "|07-09-2017|  14:00:00|  F9 B4 B1040.1|  KSC LC-39A|  Boeing X-37B OTV-5|             4990|        LEO|      U.S. Air Force|             Success|Success (ground pad)|\n",
            "|09-10-2017|  12:37:00|  F9 B4 B1041.1| VAFB SLC-4E|      Iridium NEXT 3|             9600|  Polar LEO|Iridium Communica...|             Success|Success (drone ship)|\n",
            "|11-10-2017|  22:53:00| F9 FT  B1031.2|  KSC LC-39A|SES-11 / EchoStar...|             5200|        GTO|        SES EchoStar|             Success|Success (drone ship)|\n",
            "|30-10-2017|  19:34:00|  F9 B4 B1042.1|  KSC LC-39A|         Koreasat 5A|             3500|        GTO|      KT Corporation|             Success|Success (drone ship)|\n",
            "|15-12-2017|  15:36:00| F9 FT  B1035.2|CCAFS SLC-40|       SpaceX CRS-13|             2205|  LEO (ISS)|          NASA (CRS)|             Success|Success (ground pad)|\n",
            "|23-12-2017|  01:27:00| F9 FT  B1036.2| VAFB SLC-4E|      Iridium NEXT 4|             9600|  Polar LEO|Iridium Communica...|             Success|  Controlled (ocean)|\n",
            "|08-01-2018|  01:00:00|  F9 B4 B1043.1|CCAFS SLC-40|                Zuma|             5000|        LEO|    Northrop Grumman|Success (payload ...|Success (ground pad)|\n",
            "|31-01-2018|  21:25:00| F9 FT  B1032.2|CCAFS SLC-40|   GovSat-1 / SES-16|             4230|        GTO|                 SES|             Success|  Controlled (ocean)|\n",
            "|22-02-2018|  14:17:00| F9 FT  B1038.2| VAFB SLC-4E|   Paz  Tintin A & B|             2150|        SSO|Hisdesat exactEar...|             Success|          No attempt|\n",
            "|06-03-2018|  05:33:00|    F9 B4 B1044|CCAFS SLC-40|Hispasat 30W-6  P...|             6092|        GTO| Hispasat  NovaWurks|             Success|          No attempt|\n",
            "|30-03-2018|  14:14:00| F9 B4  B1041.2| VAFB SLC-4E|      Iridium NEXT 5|             9600|  Polar LEO|Iridium Communica...|             Success|          No attempt|\n",
            "|02-04-2018|  20:30:00| F9 B4  B1039.2|CCAFS SLC-40|       SpaceX CRS-14|             2647|  LEO (ISS)|          NASA (CRS)|             Success|          No attempt|\n",
            "|18-04-2018|  22:51:00|  F9 B4 B1045.1|CCAFS SLC-40|Transiting Exopla...|              362|        HEO|          NASA (LSP)|             Success|Success (drone ship)|\n",
            "|11-05-2018|  20:14:00| F9 B5  B1046.1|  KSC LC-39A|       Bangabandhu-1|             3600|        GTO|  Thales-Alenia/BTRC|             Success|Success (drone ship)|\n",
            "|22-05-2018|  19:47:58| F9 B4  B1043.2| VAFB SLC-4E|Iridium NEXT 6   ...|             6460|  Polar LEO|Iridium Communica...|             Success|          No attempt|\n",
            "|04-06-2018|  04:45:00| F9 B4  B1040.2|CCAFS SLC-40|              SES-12|             5384|        GTO|                 SES|             Success|          No attempt|\n",
            "|29-06-2018|  09:42:00|  F9 B4 B1045.2|CCAFS SLC-40|       SpaceX CRS-15|             2697|  LEO (ISS)|          NASA (CRS)|             Success|          No attempt|\n",
            "|22-07-2018|  05:50:00|   F9 B5B1047.1|CCAFS SLC-40|         Telstar 19V|             7075|        GTO|             Telesat|             Success|             Success|\n",
            "|25-07-2018|  11:39:00|   F9 B5B1048.1| VAFB SLC-4E|      Iridium NEXT-7|             9600|  Polar LEO|Iridium Communica...|             Success|             Success|\n",
            "|07-08-2018|  05:18:00|  F9 B5 B1046.2|CCAFS SLC-40|        Merah Putih |             5800|        GTO|    Telkom Indonesia|             Success|             Success|\n",
            "|10-09-2018|  04:45:00|   F9 B5B1049.1|CCAFS SLC-40|Telstar 18V / Aps...|             7060|        GTO|             Telesat|             Success|             Success|\n",
            "|08-10-2018|  02:22:00|  F9 B5 B1048.2| VAFB SLC-4E|           SAOCOM 1A|             3000|        SSO|               CONAE|             Success|             Success|\n",
            "|15-11-2018|  20:46:00|  F9 B5 B1047.2|  KSC LC-39A|           Es hail 2|             5300|        GTO|          Es hailSat|             Success|             Success|\n",
            "|03-12-2018|  18:34:05|  F9 B5 B1046.3| VAFB SLC-4E|              SSO-A |             4000|        SSO|Spaceflight Indus...|             Success|             Success|\n",
            "|05-12-2018|  18:16:00|     F9 B5B1050|CCAFS SLC-40|       SpaceX CRS-16|             2500|  LEO (ISS)|          NASA (CRS)|             Success|             Failure|\n",
            "|23-12-2018|  13:51:00|     F9 B5B1054|CCAFS SLC-40|         GPS III-01 |             4400|        MEO|                USAF|            Success |          No attempt|\n",
            "|11-01-2019|  15:31:00|  F9 B5 B1049.2| VAFB SLC-4E|      Iridium NEXT-8|             9600|  Polar LEO|Iridium Communica...|             Success|             Success|\n",
            "|22-02-2019|  01:45:00|  F9 B5 B1048.3|CCAFS SLC-40|Nusantara Satu, B...|             4850|        GTO|  PSN, SpaceIL / IAI|             Success|             Success|\n",
            "|02-03-2019|  07:49:00|   F9 B5B1051.1|  KSC LC-39A|Crew Dragon Demo-...|            12055|  LEO (ISS)|         NASA (CCD) |             Success|             Success|\n",
            "|04-05-2019|  06:48:00|  F9 B5B1056.1 |CCAFS SLC-40|SpaceX CRS-17, St...|             2495|  LEO (ISS)|          NASA (CRS)|             Success|             Success|\n",
            "|24-05-2019|  02:30:00|  F9 B5 B1049.3|CCAFS SLC-40|Starlink v0.9, RA...|            13620|        LEO|              SpaceX|             Success|             Success|\n",
            "|12-06-2019|  14:17:00| F9 B5 B1051.2 | VAFB SLC-4E|RADARSAT Constell...|             4200|        SSO|Canadian Space Ag...|             Success|             Success|\n",
            "|25-07-2019|  22:01:00| F9 B5 B1056.2 |CCAFS SLC-40|SpaceX CRS-18, AM...|             2268|  LEO (ISS)|          NASA (CRS)|             Success|             Success|\n",
            "|06-08-2019|  23:23:00| F9 B5 B1047.3 |CCAFS SLC-40|AMOS-17, Starlink...|             6500|        GTO|            Spacecom|             Success|         No attempt |\n",
            "|11-11-2019|  14:56:00|  F9 B5 B1048.4|CCAFS SLC-40|Starlink 1 v1.0, ...|            15600|        LEO|              SpaceX|             Success|             Success|\n",
            "|05-12-2019|  17:29:00|   F9 B5B1059.1|CCAFS SLC-40|SpaceX CRS-19, JC...|             2617|  LEO (ISS)|NASA (CRS), Kacif...|             Success|             Success|\n",
            "|17-12-2019|  00:10:00| F9 B5 B1056.3 |CCAFS SLC-40|JCSat-18 / Kacifi...|             6956|        GTO|Sky Perfect JSAT,...|             Success|             Success|\n",
            "|07-01-2020|  02:33:00|  F9 B5 B1049.4|CCAFS SLC-40|Starlink 2 v1.0, ...|            15600|        LEO|              SpaceX|             Success|             Success|\n",
            "|19-01-2020|  15:30:00|  F9 B5 B1046.4|  KSC LC-39A|Crew Dragon in-fl...|            12050|Sub-orbital|          NASA (CTS)|             Success|          No attempt|\n",
            "|29-01-2020|  14:07:00|  F9 B5 B1051.3|CCAFS SLC-40|Starlink 3 v1.0, ...|            15600|        LEO|              SpaceX|             Success|             Success|\n",
            "|17-02-2020|  15:05:00|  F9 B5 B1056.4|CCAFS SLC-40|Starlink 4 v1.0, ...|            15600|        LEO|              SpaceX|             Success|             Failure|\n",
            "|07-03-2020|  04:50:00|  F9 B5 B1059.2|CCAFS SLC-40|SpaceX CRS-20, St...|             1977|  LEO (ISS)|          NASA (CRS)|             Success|             Success|\n",
            "|18-03-2020|  12:16:00|  F9 B5 B1048.5|  KSC LC-39A|Starlink 5 v1.0, ...|            15600|        LEO|              SpaceX|             Success|             Failure|\n",
            "|22-04-2020|  19:30:00|  F9 B5 B1051.4|  KSC LC-39A|Starlink 6 v1.0, ...|            15600|        LEO|              SpaceX|             Success|             Success|\n",
            "|30-05-2020|  19:22:00|  F9 B5B1058.1 |  KSC LC-39A|Crew Dragon Demo-...|            12530|  LEO (ISS)|        NASA (CCDev)|             Success|             Success|\n",
            "|04-06-2020|  01:25:00|  F9 B5 B1049.5|CCAFS SLC-40|Starlink 7 v1.0, ...|            15600|        LEO| SpaceX, Planet Labs|             Success|             Success|\n",
            "|13-06-2020|  09:21:00|  F9 B5 B1059.3|CCAFS SLC-40|Starlink 8 v1.0, ...|            15410|        LEO| SpaceX, Planet Labs|             Success|             Success|\n",
            "|30-06-2020|  20:10:46|   F9 B5B1060.1|CCAFS SLC-40|GPS III-03, ANASI...|             4311|        MEO|    U.S. Space Force|             Success|             Success|\n",
            "|20-07-2020|  21:30:00| F9 B5 B1058.2 |CCAFS SLC-40|ANASIS-II, Starli...|             5500|        GTO|Republic of Korea...|             Success|             Success|\n",
            "|07-08-2020|  05:12:00|  F9 B5 B1051.5|  KSC LC-39A|Starlink 9 v1.0, ...|            14932|        LEO|SpaceX, Spaceflig...|             Success|             Success|\n",
            "|18-08-2020|  14:31:00|  F9 B5 B1049.6|CCAFS SLC-40|Starlink 10 v1.0,...|            15440|        LEO|SpaceX, Planet La...|             Success|             Success|\n",
            "|30-08-2020|  23:18:00|  F9 B5 B1059.4|CCAFS SLC-40|SAOCOM 1B, GNOMES...|             3130|        SSO|CONAE, PlanetIQ, ...|             Success|             Success|\n",
            "|03-09-2020|  12:46:14| F9 B5 B1060.2 |  KSC LC-39A|Starlink 11 v1.0,...|            15600|        LEO|              SpaceX|             Success|             Success|\n",
            "|06-10-2020|  11:29:34| F9 B5 B1058.3 |  KSC LC-39A|Starlink 12 v1.0,...|            15600|        LEO|              SpaceX|             Success|             Success|\n",
            "|18-10-2020|  12:25:57|  F9 B5 B1051.6|  KSC LC-39A|Starlink 13 v1.0,...|            15600|        LEO|              SpaceX|             Success|             Success|\n",
            "|24-10-2020|  15:31:34|  F9 B5 B1060.3|CCAFS SLC-40|Starlink 14 v1.0,...|            15600|        LEO|              SpaceX|             Success|             Success|\n",
            "|05-11-2020|  23:24:23|   F9 B5B1062.1|CCAFS SLC-40| GPS III-04 , Crew-1|             4311|        MEO|                USSF|             Success|             Success|\n",
            "|16-11-2020|  00:27:00|  F9 B5B1061.1 |  KSC LC-39A|Crew-1, Sentinel-...|            12500|  LEO (ISS)|          NASA (CCP)|             Success|             Success|\n",
            "|21-11-2020|  17:17:08|   F9 B5B1063.1| VAFB SLC-4E|Sentinel-6 Michae...|             1192|        LEO|NASA / NOAA / ESA...|             Success|             Success|\n",
            "|25-11-2020|  02:13:00| F9 B5 B1049.7 |CCAFS SLC-40|Starlink 15 v1.0,...|            15600|        LEO|              SpaceX|             Success|             Success|\n",
            "|06-12-2020|  16:17:08| F9 B5 B1058.4 |  KSC LC-39A|       SpaceX CRS-21|             2972|  LEO (ISS)|          NASA (CRS)|             Success|             Success|\n",
            "+----------+----------+---------------+------------+--------------------+-----------------+-----------+--------------------+--------------------+--------------------+\n",
            "\n"
          ]
        }
      ],
      "source": [
        "df7_1 = df.filter(df.Mission_Outcome.like(\"Success%\")).show(100)\n",
        "#df.Mission_Outcome.like(\"Failure%\")"
      ]
    },
    {
      "cell_type": "code",
      "source": [
        "df7_2 = df.filter(df.Mission_Outcome.like(\"Failure%\")).show(100)"
      ],
      "metadata": {
        "colab": {
          "base_uri": "https://localhost:8080/"
        },
        "id": "sqr0-m_nnVE7",
        "outputId": "1efa9ed2-0ec4-47e9-b006-a6443ac3072f"
      },
      "execution_count": null,
      "outputs": [
        {
          "output_type": "stream",
          "name": "stdout",
          "text": [
            "+----------+----------+---------------+-----------+------------+-----------------+---------+----------+-------------------+--------------------+\n",
            "|      Date|Time (UTC)|Booster_Version|Launch_Site|     Payload|PAYLOAD_MASS__KG_|    Orbit|  Customer|    Mission_Outcome|    Landing _Outcome|\n",
            "+----------+----------+---------------+-----------+------------+-----------------+---------+----------+-------------------+--------------------+\n",
            "|28-06-2015|  14:21:00|  F9 v1.1 B1018|CCAFS LC-40|SpaceX CRS-7|             1952|LEO (ISS)|NASA (CRS)|Failure (in flight)|Precluded (drone ...|\n",
            "+----------+----------+---------------+-----------+------------+-----------------+---------+----------+-------------------+--------------------+\n",
            "\n"
          ]
        }
      ]
    },
    {
      "cell_type": "code",
      "source": [
        "import pandas as pd\n",
        "import numpy as np"
      ],
      "metadata": {
        "id": "-tRZOpOqe-3T"
      },
      "execution_count": null,
      "outputs": []
    },
    {
      "cell_type": "markdown",
      "metadata": {
        "id": "Ifq4YketoPG2"
      },
      "source": [
        "### Task 8\n",
        "\n",
        "##### List the   names of the booster_versions which have carried the maximum payload mass. Use a subquery\n"
      ]
    },
    {
      "cell_type": "markdown",
      "source": [
        "cursor.execute(\"SELECT DISTINCT Booster_Version, MAX(PAYLOAD_MASS_KG_) AS [Maximum Payload Mass] FROM tblSpaceX GROUP BY Booster_Version ORDER BY [Maximum Payload Mass] DESC\")\n",
        "columns = [column[0] for column in cursor.description]"
      ],
      "metadata": {
        "id": "6-09bFc8n6a3"
      }
    },
    {
      "cell_type": "code",
      "source": [
        "dfx = df.select(\"PAYLOAD_MASS__KG_\").distinct().show(200)"
      ],
      "metadata": {
        "colab": {
          "base_uri": "https://localhost:8080/"
        },
        "id": "ojKmxtpxoNSP",
        "outputId": "1a6e6ce7-cff4-4761-c18c-f23057eb2ac1"
      },
      "execution_count": null,
      "outputs": [
        {
          "output_type": "stream",
          "name": "stdout",
          "text": [
            "+-----------------+\n",
            "|PAYLOAD_MASS__KG_|\n",
            "+-----------------+\n",
            "|             5300|\n",
            "|             3000|\n",
            "|             4000|\n",
            "|             6500|\n",
            "|             1977|\n",
            "|            12530|\n",
            "|              362|\n",
            "|             6460|\n",
            "|            12055|\n",
            "|             4230|\n",
            "|             2697|\n",
            "|            15440|\n",
            "|             3669|\n",
            "|             4200|\n",
            "|             6956|\n",
            "|             3325|\n",
            "|             3500|\n",
            "|             5500|\n",
            "|             2647|\n",
            "|             4428|\n",
            "|             2296|\n",
            "|             4311|\n",
            "|             5000|\n",
            "|            12500|\n",
            "|             1952|\n",
            "|              500|\n",
            "|              570|\n",
            "|             4159|\n",
            "|             2268|\n",
            "|            15410|\n",
            "|              553|\n",
            "|            14932|\n",
            "|             1192|\n",
            "|             2150|\n",
            "|            12050|\n",
            "|             3310|\n",
            "|             2257|\n",
            "|             5800|\n",
            "|             2972|\n",
            "|             2205|\n",
            "|             2490|\n",
            "|              677|\n",
            "|             5271|\n",
            "|             5600|\n",
            "|             2495|\n",
            "|             3170|\n",
            "|             5200|\n",
            "|             2034|\n",
            "|             1898|\n",
            "|            13620|\n",
            "|             2395|\n",
            "|             3600|\n",
            "|             9600|\n",
            "|             4400|\n",
            "|             7060|\n",
            "|             3136|\n",
            "|             2708|\n",
            "|             7075|\n",
            "|             4535|\n",
            "|             2216|\n",
            "|             4696|\n",
            "|             5384|\n",
            "|             6761|\n",
            "|             4990|\n",
            "|             6070|\n",
            "|              525|\n",
            "|             3100|\n",
            "|             2617|\n",
            "|             3130|\n",
            "|             1316|\n",
            "|            15600|\n",
            "|             4850|\n",
            "|             2500|\n",
            "|                0|\n",
            "|             4600|\n",
            "|             4707|\n",
            "|              475|\n",
            "|             6092|\n",
            "+-----------------+\n",
            "\n"
          ]
        }
      ]
    },
    {
      "cell_type": "code",
      "execution_count": null,
      "metadata": {
        "id": "kN2mA04VoPG2",
        "colab": {
          "base_uri": "https://localhost:8080/"
        },
        "outputId": "c34eeac3-2ded-425b-ca4c-3f8662d9d7ae"
      },
      "outputs": [
        {
          "output_type": "stream",
          "name": "stdout",
          "text": [
            "+----------+----------+---------------+------------+--------------------+-----------------+-----+-------------------+---------------+----------------+\n",
            "|      Date|Time (UTC)|Booster_Version| Launch_Site|             Payload|PAYLOAD_MASS__KG_|Orbit|           Customer|Mission_Outcome|Landing _Outcome|\n",
            "+----------+----------+---------------+------------+--------------------+-----------------+-----+-------------------+---------------+----------------+\n",
            "|11-11-2019|  14:56:00|  F9 B5 B1048.4|CCAFS SLC-40|Starlink 1 v1.0, ...|            15600|  LEO|             SpaceX|        Success|         Success|\n",
            "|07-01-2020|  02:33:00|  F9 B5 B1049.4|CCAFS SLC-40|Starlink 2 v1.0, ...|            15600|  LEO|             SpaceX|        Success|         Success|\n",
            "|29-01-2020|  14:07:00|  F9 B5 B1051.3|CCAFS SLC-40|Starlink 3 v1.0, ...|            15600|  LEO|             SpaceX|        Success|         Success|\n",
            "|17-02-2020|  15:05:00|  F9 B5 B1056.4|CCAFS SLC-40|Starlink 4 v1.0, ...|            15600|  LEO|             SpaceX|        Success|         Failure|\n",
            "|18-03-2020|  12:16:00|  F9 B5 B1048.5|  KSC LC-39A|Starlink 5 v1.0, ...|            15600|  LEO|             SpaceX|        Success|         Failure|\n",
            "|22-04-2020|  19:30:00|  F9 B5 B1051.4|  KSC LC-39A|Starlink 6 v1.0, ...|            15600|  LEO|             SpaceX|        Success|         Success|\n",
            "|04-06-2020|  01:25:00|  F9 B5 B1049.5|CCAFS SLC-40|Starlink 7 v1.0, ...|            15600|  LEO|SpaceX, Planet Labs|        Success|         Success|\n",
            "|03-09-2020|  12:46:14| F9 B5 B1060.2 |  KSC LC-39A|Starlink 11 v1.0,...|            15600|  LEO|             SpaceX|        Success|         Success|\n",
            "|06-10-2020|  11:29:34| F9 B5 B1058.3 |  KSC LC-39A|Starlink 12 v1.0,...|            15600|  LEO|             SpaceX|        Success|         Success|\n",
            "|18-10-2020|  12:25:57|  F9 B5 B1051.6|  KSC LC-39A|Starlink 13 v1.0,...|            15600|  LEO|             SpaceX|        Success|         Success|\n",
            "|24-10-2020|  15:31:34|  F9 B5 B1060.3|CCAFS SLC-40|Starlink 14 v1.0,...|            15600|  LEO|             SpaceX|        Success|         Success|\n",
            "|25-11-2020|  02:13:00| F9 B5 B1049.7 |CCAFS SLC-40|Starlink 15 v1.0,...|            15600|  LEO|             SpaceX|        Success|         Success|\n",
            "+----------+----------+---------------+------------+--------------------+-----------------+-----+-------------------+---------------+----------------+\n",
            "\n"
          ]
        }
      ],
      "source": [
        "df8 = df.filter(df.PAYLOAD_MASS__KG_.like(\"15600%\")).show(500)"
      ]
    },
    {
      "cell_type": "markdown",
      "metadata": {
        "id": "nPX5ZzRFoPG2"
      },
      "source": [
        "### Task 9\n",
        "\n",
        "##### List the failed landing_outcomes in drone ship, their booster versions, and launch site names for in year 2015\n"
      ]
    },
    {
      "cell_type": "code",
      "source": [
        " df9 = df.filter((df[\"Landing _Outcome\"].like(\"Failure (drone ship)\")) & df[\"Date\"].like(\"%2015\")).show()"
      ],
      "metadata": {
        "colab": {
          "base_uri": "https://localhost:8080/"
        },
        "id": "M_694BQf6ysW",
        "outputId": "0d9c50fe-accc-4ecf-cbef-c023111eb8aa"
      },
      "execution_count": 28,
      "outputs": [
        {
          "output_type": "stream",
          "name": "stdout",
          "text": [
            "+----------+----------+---------------+-----------+------------+-----------------+---------+----------+---------------+--------------------+\n",
            "|      Date|Time (UTC)|Booster_Version|Launch_Site|     Payload|PAYLOAD_MASS__KG_|    Orbit|  Customer|Mission_Outcome|    Landing _Outcome|\n",
            "+----------+----------+---------------+-----------+------------+-----------------+---------+----------+---------------+--------------------+\n",
            "|10-01-2015|  09:47:00|  F9 v1.1 B1012|CCAFS LC-40|SpaceX CRS-5|             2395|LEO (ISS)|NASA (CRS)|        Success|Failure (drone ship)|\n",
            "|14-04-2015|  20:10:00|  F9 v1.1 B1015|CCAFS LC-40|SpaceX CRS-6|             1898|LEO (ISS)|NASA (CRS)|        Success|Failure (drone ship)|\n",
            "+----------+----------+---------------+-----------+------------+-----------------+---------+----------+---------------+--------------------+\n",
            "\n"
          ]
        }
      ]
    },
    {
      "cell_type": "code",
      "source": [
        " df9 = df.filter(df[\"Date\"].like(\"%2015\")).show()"
      ],
      "metadata": {
        "colab": {
          "base_uri": "https://localhost:8080/"
        },
        "id": "tc3Eoh8c_BP6",
        "outputId": "39b215e8-3cdc-49cc-9450-e16d8c6ac951"
      },
      "execution_count": 36,
      "outputs": [
        {
          "output_type": "stream",
          "name": "stdout",
          "text": [
            "+----------+----------+---------------+-----------+--------------------+-----------------+---------+--------------------+-------------------+--------------------+\n",
            "|      Date|Time (UTC)|Booster_Version|Launch_Site|             Payload|PAYLOAD_MASS__KG_|    Orbit|            Customer|    Mission_Outcome|    Landing _Outcome|\n",
            "+----------+----------+---------------+-----------+--------------------+-----------------+---------+--------------------+-------------------+--------------------+\n",
            "|10-01-2015|  09:47:00|  F9 v1.1 B1012|CCAFS LC-40|        SpaceX CRS-5|             2395|LEO (ISS)|          NASA (CRS)|            Success|Failure (drone ship)|\n",
            "|11-02-2015|  23:03:00|  F9 v1.1 B1013|CCAFS LC-40|              DSCOVR|              570|      HEO|U.S. Air Force NA...|            Success|  Controlled (ocean)|\n",
            "|02-03-2015|  03:50:00|  F9 v1.1 B1014|CCAFS LC-40|ABS-3A Eutelsat 1...|             4159|      GTO|        ABS Eutelsat|            Success|          No attempt|\n",
            "|14-04-2015|  20:10:00|  F9 v1.1 B1015|CCAFS LC-40|        SpaceX CRS-6|             1898|LEO (ISS)|          NASA (CRS)|            Success|Failure (drone ship)|\n",
            "|27-04-2015|  23:03:00|  F9 v1.1 B1016|CCAFS LC-40|Turkmen 52 / Mona...|             4707|      GTO|Turkmenistan Nati...|            Success|          No attempt|\n",
            "|28-06-2015|  14:21:00|  F9 v1.1 B1018|CCAFS LC-40|        SpaceX CRS-7|             1952|LEO (ISS)|          NASA (CRS)|Failure (in flight)|Precluded (drone ...|\n",
            "|22-12-2015|  01:29:00|    F9 FT B1019|CCAFS LC-40|OG2 Mission 2  11...|             2034|      LEO|             Orbcomm|            Success|Success (ground pad)|\n",
            "+----------+----------+---------------+-----------+--------------------+-----------------+---------+--------------------+-------------------+--------------------+\n",
            "\n"
          ]
        }
      ]
    },
    {
      "cell_type": "markdown",
      "metadata": {
        "id": "6go8Nq8QoPG2"
      },
      "source": [
        "### Task 10\n",
        "\n",
        "##### Rank the count of landing outcomes (such as Failure (drone ship) or Success (ground pad)) between the date 2010-06-04 and 2017-03-20, in descending order\n"
      ]
    },
    {
      "cell_type": "markdown",
      "source": [
        "SELECT COUNT(Landing_Outcome) AS sl FROM dbo.tblSpaceX WHERE (Landing_Outcome LIKE '%Success%') AND (Date >'04-06-2010') AND (Date < '20-03-2017')"
      ],
      "metadata": {
        "id": "Up18v8nsGmx_"
      }
    },
    {
      "cell_type": "code",
      "source": [
        " df10 = df.filter((df[\"Landing _Outcome\"].like(\"Success (ground pad)\")) & (df[\"Date\"]<\"04-01-2010\")).show()"
      ],
      "metadata": {
        "colab": {
          "base_uri": "https://localhost:8080/"
        },
        "id": "cag4HndqJdGQ",
        "outputId": "5f29f1a5-9a9d-414b-f4b5-add456ca109f"
      },
      "execution_count": 52,
      "outputs": [
        {
          "output_type": "stream",
          "name": "stdout",
          "text": [
            "+----------+----------+---------------+-----------+-------------+-----------------+---------+----------+---------------+--------------------+\n",
            "|      Date|Time (UTC)|Booster_Version|Launch_Site|      Payload|PAYLOAD_MASS__KG_|    Orbit|  Customer|Mission_Outcome|    Landing _Outcome|\n",
            "+----------+----------+---------------+-----------+-------------+-----------------+---------+----------+---------------+--------------------+\n",
            "|01-05-2017|  11:15:00|  F9 FT B1032.1| KSC LC-39A|      NROL-76|             5300|      LEO|       NRO|        Success|Success (ground pad)|\n",
            "|03-06-2017|  21:07:00|  F9 FT B1035.1| KSC LC-39A|SpaceX CRS-11|             2708|LEO (ISS)|NASA (CRS)|        Success|Success (ground pad)|\n",
            "+----------+----------+---------------+-----------+-------------+-----------------+---------+----------+---------------+--------------------+\n",
            "\n"
          ]
        }
      ]
    },
    {
      "cell_type": "code",
      "source": [
        " df10 = df.filter((df[\"Landing _Outcome\"].like(\"Success (ground pad)\")) & (df[\"Date\"]>'04-06-2010') & (df[\"Date\"]<'20-03-2017')).show()"
      ],
      "metadata": {
        "colab": {
          "base_uri": "https://localhost:8080/"
        },
        "id": "oHiaP3-NIpvY",
        "outputId": "0368cb65-770d-4ec6-e0df-d8c9fef03f41"
      },
      "execution_count": 54,
      "outputs": [
        {
          "output_type": "stream",
          "name": "stdout",
          "text": [
            "+----------+----------+---------------+------------+------------------+-----------------+---------+----------------+--------------------+--------------------+\n",
            "|      Date|Time (UTC)|Booster_Version| Launch_Site|           Payload|PAYLOAD_MASS__KG_|    Orbit|        Customer|     Mission_Outcome|    Landing _Outcome|\n",
            "+----------+----------+---------------+------------+------------------+-----------------+---------+----------------+--------------------+--------------------+\n",
            "|18-07-2016|  04:45:00|  F9 FT B1025.1| CCAFS LC-40|      SpaceX CRS-9|             2257|LEO (ISS)|      NASA (CRS)|             Success|Success (ground pad)|\n",
            "|19-02-2017|  14:39:00|  F9 FT B1031.1|  KSC LC-39A|     SpaceX CRS-10|             2490|LEO (ISS)|      NASA (CRS)|             Success|Success (ground pad)|\n",
            "|14-08-2017|  16:31:00|  F9 B4 B1039.1|  KSC LC-39A|     SpaceX CRS-12|             3310|LEO (ISS)|      NASA (CRS)|             Success|Success (ground pad)|\n",
            "|07-09-2017|  14:00:00|  F9 B4 B1040.1|  KSC LC-39A|Boeing X-37B OTV-5|             4990|      LEO|  U.S. Air Force|             Success|Success (ground pad)|\n",
            "|15-12-2017|  15:36:00| F9 FT  B1035.2|CCAFS SLC-40|     SpaceX CRS-13|             2205|LEO (ISS)|      NASA (CRS)|             Success|Success (ground pad)|\n",
            "|08-01-2018|  01:00:00|  F9 B4 B1043.1|CCAFS SLC-40|              Zuma|             5000|      LEO|Northrop Grumman|Success (payload ...|Success (ground pad)|\n",
            "+----------+----------+---------------+------------+------------------+-----------------+---------+----------------+--------------------+--------------------+\n",
            "\n"
          ]
        }
      ]
    },
    {
      "cell_type": "code",
      "execution_count": 53,
      "metadata": {
        "id": "pzdGm22eoPG3",
        "colab": {
          "base_uri": "https://localhost:8080/"
        },
        "outputId": "5a0f7642-dfb7-4973-ed5c-8da6f040a72b"
      },
      "outputs": [
        {
          "output_type": "stream",
          "name": "stdout",
          "text": [
            "+----------+----------+---------------+-----------+--------------------+-----------------+---------+----------+---------------+--------------------+\n",
            "|      Date|Time (UTC)|Booster_Version|Launch_Site|             Payload|PAYLOAD_MASS__KG_|    Orbit|  Customer|Mission_Outcome|    Landing _Outcome|\n",
            "+----------+----------+---------------+-----------+--------------------+-----------------+---------+----------+---------------+--------------------+\n",
            "|22-12-2015|  01:29:00|    F9 FT B1019|CCAFS LC-40|OG2 Mission 2  11...|             2034|      LEO|   Orbcomm|        Success|Success (ground pad)|\n",
            "|18-07-2016|  04:45:00|  F9 FT B1025.1|CCAFS LC-40|        SpaceX CRS-9|             2257|LEO (ISS)|NASA (CRS)|        Success|Success (ground pad)|\n",
            "|19-02-2017|  14:39:00|  F9 FT B1031.1| KSC LC-39A|       SpaceX CRS-10|             2490|LEO (ISS)|NASA (CRS)|        Success|Success (ground pad)|\n",
            "+----------+----------+---------------+-----------+--------------------+-----------------+---------+----------+---------------+--------------------+\n",
            "only showing top 3 rows\n",
            "\n"
          ]
        }
      ],
      "source": [
        " df10 = df.filter((df[\"Landing _Outcome\"].like(\"Success (ground pad)\")) & df[\"Date\"].like(\"%201%\")).show(3)"
      ]
    },
    {
      "cell_type": "code",
      "source": [
        "spark.stop()"
      ],
      "metadata": {
        "id": "N7YB3iVjLLcp"
      },
      "execution_count": 55,
      "outputs": []
    },
    {
      "cell_type": "markdown",
      "metadata": {
        "id": "GkBtqTV4oPG3"
      },
      "source": [
        "## Author : Sourav Das\n"
      ]
    },
    {
      "cell_type": "markdown",
      "metadata": {
        "id": "ZD0pVFCcoPG4"
      },
      "source": [
        "## <h3 align=\"center\"> © IBM Corporation 2021. All rights reserved. <h3/>\n"
      ]
    }
  ],
  "metadata": {
    "kernelspec": {
      "display_name": "Python 3",
      "language": "python",
      "name": "python3"
    },
    "language_info": {
      "codemirror_mode": {
        "name": "ipython",
        "version": 3
      },
      "file_extension": ".py",
      "mimetype": "text/x-python",
      "name": "python",
      "nbconvert_exporter": "python",
      "pygments_lexer": "ipython3",
      "version": "3.8.8"
    },
    "colab": {
      "name": "w2-01-eda-sql-coursera.ipynb",
      "provenance": [],
      "collapsed_sections": []
    }
  },
  "nbformat": 4,
  "nbformat_minor": 0
}